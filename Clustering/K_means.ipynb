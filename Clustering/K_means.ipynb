{
 "cells": [
  {
   "cell_type": "markdown",
   "metadata": {},
   "source": [
    "# K-means implementation\n",
    "\n",
    "\n",
    "<img src=\"https://upload.wikimedia.org/wikipedia/commons/e/ea/K-means_convergence.gif\" width=\"600\">\n",
    "\n",
    "\n",
    "**Understanding K-means Clustering**\n",
    "\n",
    "K-means clustering is a technique used to organize data into groups based on their similarity. The algorithm works by first randomly picking some central points called centroids and each data point is then assigned to the closest centroid forming a cluster. After all the points are assigned to a cluster the centroids are updated by finding the average position of the points in each cluster. This process repeats until the centroids stop changing forming clusters. The goal of clustering is to divide the data points into clusters so that similar data points belong to same group.\n",
    "\n",
    "**How k-means clustering works?**\n",
    "\n",
    "We are given a data set of items with certain features and values for these features (like a vector). The task is to categorize those items into groups. To achieve this, we will use the K-means algorithm. ‘K’ in the name of the algorithm represents the number of groups/clusters we want to classify our items into.\n",
    "\n",
    "The algorithm will categorize the items into k groups or clusters of similarity. To calculate that similarity, we will use the Euclidean distance as a measurement. The algorithm works as follows:  \n",
    "\n",
    "- First, we randomly initialize k points, called means or cluster centroids.\n",
    "- We categorize each item to its closest mean, and we update the mean’s coordinates, which are the averages of the items categorized in that cluster so far.\n",
    "- We repeat the process for a given number of iterations and at the end, we have our clusters.\n",
    "\n",
    "**Implementation of K-Means Clustering in Python**\n",
    "\n",
    "We will use blobs datasets and show how clusters are made.\n",
    "\n",
    "`Step 1: Importing the necessary libraries`\n",
    "\n",
    "We are importing Numpy for statistical computations, Matplotlib to plot the graph, and make_blobs from sklearn.datasets.\n",
    "\n",
    "🔧 Sklearn Installation: [Getting Started with Sklearn](https://pypi.org/project/scikit-learn/)"
   ]
  },
  {
   "cell_type": "code",
   "execution_count": 1,
   "metadata": {},
   "outputs": [],
   "source": [
    "import numpy as np\n",
    "import matplotlib.pyplot as plt\n",
    "from sklearn.datasets import make_blobs"
   ]
  },
  {
   "cell_type": "markdown",
   "metadata": {},
   "source": [
    "`Step 2: Create the custom dataset with make_blobs and plot it`"
   ]
  },
  {
   "cell_type": "code",
   "execution_count": 2,
   "metadata": {},
   "outputs": [
    {
     "data": {
      "image/png": "[encoded data removed]",
      "text/plain": [
       "<Figure size 432x288 with 1 Axes>"
      ]
     },
     "metadata": {
      "needs_background": "light"
     },
     "output_type": "display_data"
    }
   ],
   "source": [
    "X,y = make_blobs(n_samples = 500,n_features = 2,centers = 3,random_state = 23)\n",
    "\n",
    "fig = plt.figure(0)\n",
    "plt.grid(True)\n",
    "plt.scatter(X[:,0],X[:,1])\n",
    "plt.show()"
   ]
  },
  {
   "cell_type": "markdown",
   "metadata": {},
   "source": [
    "`Step 3: Initialize the random centroids`\n",
    "\n",
    "The code initializes three clusters for K-means clustering. It sets a random seed and generates random cluster centers within a specified range, and creates an empty list of points for each cluster."
   ]
  },
  {
   "cell_type": "code",
   "execution_count": 3,
   "metadata": {},
   "outputs": [
    {
     "data": {
      "text/plain": [
       "{0: {'center': array([0.06919154, 1.78785042]), 'points': []},\n",
       " 1: {'center': array([ 1.06183904, -0.87041662]), 'points': []},\n",
       " 2: {'center': array([-1.11581855,  0.74488834]), 'points': []}}"
      ]
     },
     "execution_count": 3,
     "metadata": {},
     "output_type": "execute_result"
    }
   ],
   "source": [
    "k = 3\n",
    "\n",
    "clusters = {}\n",
    "np.random.seed(23)\n",
    "\n",
    "for idx in range(k):\n",
    "    center = 2*(2*np.random.random((X.shape[1],))-1)\n",
    "    points = []\n",
    "    cluster = {\n",
    "        'center' : center,\n",
    "        'points' : []\n",
    "    }\n",
    "    \n",
    "    clusters[idx] = cluster\n",
    "    \n",
    "clusters"
   ]
  },
  {
   "cell_type": "markdown",
   "metadata": {},
   "source": [
    "`Step 4: Plot the random initialize center with data points`"
   ]
  },
  {
   "cell_type": "code",
   "execution_count": 4,
   "metadata": {},
   "outputs": [
    {
     "data": {
      "image/png": "[encoded data removed]",
      "text/plain": [
       "<Figure size 432x288 with 1 Axes>"
      ]
     },
     "metadata": {
      "needs_background": "light"
     },
     "output_type": "display_data"
    }
   ],
   "source": [
    "plt.scatter(X[:,0],X[:,1])\n",
    "plt.grid(True)\n",
    "for i in clusters:\n",
    "    center = clusters[i]['center']\n",
    "    plt.scatter(center[0],center[1],marker = '*',c = 'red')\n",
    "plt.show()"
   ]
  },
  {
   "cell_type": "markdown",
   "metadata": {},
   "source": [
    "The plot displays a scatter plot of data points (X[:,0], X[:,1]) with grid lines. It also marks the initial cluster centers (red stars) generated for K-means clustering."
   ]
  },
  {
   "cell_type": "markdown",
   "metadata": {},
   "source": [
    "`Step 5: Define Euclidean distance`"
   ]
  },
  {
   "cell_type": "code",
   "execution_count": 5,
   "metadata": {},
   "outputs": [],
   "source": [
    "def distance(p1,p2):\n",
    "    return np.sqrt(np.sum((p1-p2)**2))"
   ]
  },
  {
   "cell_type": "markdown",
   "metadata": {},
   "source": [
    "`Step 6: Create the function to Assign and Update the cluster center`\n",
    "\n",
    "This step assigns data points to the nearest cluster center, and the M-step updates cluster centers based on the mean of assigned points in K-means clustering."
   ]
  },
  {
   "cell_type": "code",
   "execution_count": 6,
   "metadata": {},
   "outputs": [],
   "source": [
    "def assign_clusters(X, clusters):\n",
    "    for idx in range(X.shape[0]):\n",
    "        dist = []\n",
    "        \n",
    "        curr_x = X[idx]\n",
    "        \n",
    "        for i in range(k):\n",
    "            dis = distance(curr_x,clusters[i]['center'])\n",
    "            dist.append(dis)\n",
    "        curr_cluster = np.argmin(dist)\n",
    "        clusters[curr_cluster]['points'].append(curr_x)\n",
    "    return clusters\n",
    "\n",
    "def update_clusters(X, clusters):\n",
    "    for i in range(k):\n",
    "        points = np.array(clusters[i]['points'])\n",
    "        if points.shape[0] > 0:\n",
    "            new_center = points.mean(axis =0)\n",
    "            clusters[i]['center'] = new_center\n",
    "            \n",
    "            clusters[i]['points'] = []\n",
    "    return clusters"
   ]
  },
  {
   "cell_type": "markdown",
   "metadata": {},
   "source": [
    "`Step 7: Create the function to Predict the cluster for the datapoints`"
   ]
  },
  {
   "cell_type": "code",
   "execution_count": 7,
   "metadata": {},
   "outputs": [],
   "source": [
    "def pred_cluster(X, clusters):\n",
    "    pred = []\n",
    "    for i in range(X.shape[0]):\n",
    "        dist = []\n",
    "        for j in range(k):\n",
    "            dist.append(distance(X[i],clusters[j]['center']))\n",
    "        pred.append(np.argmin(dist))\n",
    "    return pred"
   ]
  },
  {
   "cell_type": "markdown",
   "metadata": {},
   "source": [
    "Reference: https://www.geeksforgeeks.org/k-means-clustering-introduction/"
   ]
  }
 ],
 "metadata": {
  "kernelspec": {
   "display_name": "Python 3 (ipykernel)",
   "language": "python",
   "name": "python3"
  },
  "language_info": {
   "codemirror_mode": {
    "name": "ipython",
    "version": 3
   },
   "file_extension": ".py",
   "mimetype": "text/x-python",
   "name": "python",
   "nbconvert_exporter": "python",
   "pygments_lexer": "ipython3",
   "version": "3.9.0"
  }
 },
 "nbformat": 4,
 "nbformat_minor": 4
}
