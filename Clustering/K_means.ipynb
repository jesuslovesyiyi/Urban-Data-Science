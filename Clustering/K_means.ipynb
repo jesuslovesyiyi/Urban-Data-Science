{
 "cells": [
  {
   "cell_type": "markdown",
   "metadata": {},
   "source": [
    "# K-means implementation\n",
    "\n",
    "<img src=\"https://miro.medium.com/v2/resize:fit:1280/format:webp/1*rwYaxuY-jeiVXH0fyqC_oA.gif\" width=\"600\">\n",
    "\n",
    "\n",
    "**Understanding K-means Clustering**\n",
    "\n",
    "K-means clustering is a technique used to organize data into groups based on their similarity. The algorithm works by first randomly picking some central points called centroids and each data point is then assigned to the closest centroid forming a cluster. After all the points are assigned to a cluster the centroids are updated by finding the average position of the points in each cluster. This process repeats until the centroids stop changing forming clusters. The goal of clustering is to divide the data points into clusters so that similar data points belong to same group.\n",
    "\n",
    "**How k-means clustering works?**\n",
    "\n",
    "We are given a data set of items with certain features and values for these features (like a vector). The task is to categorize those items into groups. To achieve this, we will use the K-means algorithm. ‘K’ in the name of the algorithm represents the number of groups/clusters we want to classify our items into.\n",
    "\n",
    "The algorithm will categorize the items into k groups or clusters of similarity. To calculate that similarity, we will use the Euclidean distance as a measurement. The algorithm works as follows:  \n",
    "\n",
    "- First, we randomly initialize k points, called means or cluster centroids.\n",
    "- We categorize each item to its closest mean, and we update the mean’s coordinates, which are the averages of the items categorized in that cluster so far.\n",
    "- We repeat the process for a given number of iterations and at the end, we have our clusters."
   ]
  },
  {
   "cell_type": "code",
   "execution_count": 7,
   "metadata": {},
   "outputs": [],
   "source": []
  },
  {
   "cell_type": "markdown",
   "metadata": {},
   "source": [
    "We will explore three measurements:\n",
    "\n",
    "`Central Tendency`\n",
    "* mean_center: calculate the mean center of the unmarked point pattern.\n",
    "* weighted_mean_center: calculate the weighted mean center of the marked point pattern.\n",
    "\n",
    "`Dispersion and Orientation`\n",
    "* std_distance: calculate the standard distance\n",
    "\n",
    "All of the above functions operate on a series of coordinate pairs. That is, the data type of the first argument should be  (𝑛,2) array_like. In case that you have a point pattern (PointPattern instance), you need to pass its attribute \"points\" instead of itself to these functions."
   ]
  },
  {
   "cell_type": "code",
   "execution_count": 3,
   "metadata": {},
   "outputs": [
    {
     "data": {
      "text/html": [
       "<div>\n",
       "<style scoped>\n",
       "    .dataframe tbody tr th:only-of-type {\n",
       "        vertical-align: middle;\n",
       "    }\n",
       "\n",
       "    .dataframe tbody tr th {\n",
       "        vertical-align: top;\n",
       "    }\n",
       "\n",
       "    .dataframe thead th {\n",
       "        text-align: right;\n",
       "    }\n",
       "</style>\n",
       "<table border=\"1\" class=\"dataframe\">\n",
       "  <thead>\n",
       "    <tr style=\"text-align: right;\">\n",
       "      <th></th>\n",
       "      <th>x</th>\n",
       "      <th>y</th>\n",
       "    </tr>\n",
       "  </thead>\n",
       "  <tbody>\n",
       "    <tr>\n",
       "      <th>0</th>\n",
       "      <td>66.22</td>\n",
       "      <td>32.54</td>\n",
       "    </tr>\n",
       "    <tr>\n",
       "      <th>1</th>\n",
       "      <td>22.52</td>\n",
       "      <td>22.39</td>\n",
       "    </tr>\n",
       "    <tr>\n",
       "      <th>2</th>\n",
       "      <td>31.01</td>\n",
       "      <td>81.21</td>\n",
       "    </tr>\n",
       "    <tr>\n",
       "      <th>3</th>\n",
       "      <td>9.47</td>\n",
       "      <td>31.02</td>\n",
       "    </tr>\n",
       "    <tr>\n",
       "      <th>4</th>\n",
       "      <td>30.78</td>\n",
       "      <td>60.10</td>\n",
       "    </tr>\n",
       "    <tr>\n",
       "      <th>5</th>\n",
       "      <td>75.21</td>\n",
       "      <td>58.93</td>\n",
       "    </tr>\n",
       "    <tr>\n",
       "      <th>6</th>\n",
       "      <td>79.26</td>\n",
       "      <td>7.68</td>\n",
       "    </tr>\n",
       "    <tr>\n",
       "      <th>7</th>\n",
       "      <td>8.23</td>\n",
       "      <td>39.93</td>\n",
       "    </tr>\n",
       "    <tr>\n",
       "      <th>8</th>\n",
       "      <td>98.73</td>\n",
       "      <td>77.17</td>\n",
       "    </tr>\n",
       "    <tr>\n",
       "      <th>9</th>\n",
       "      <td>89.78</td>\n",
       "      <td>42.53</td>\n",
       "    </tr>\n",
       "    <tr>\n",
       "      <th>10</th>\n",
       "      <td>65.19</td>\n",
       "      <td>92.08</td>\n",
       "    </tr>\n",
       "    <tr>\n",
       "      <th>11</th>\n",
       "      <td>54.46</td>\n",
       "      <td>8.48</td>\n",
       "    </tr>\n",
       "  </tbody>\n",
       "</table>\n",
       "</div>"
      ],
      "text/plain": [
       "        x      y\n",
       "0   66.22  32.54\n",
       "1   22.52  22.39\n",
       "2   31.01  81.21\n",
       "3    9.47  31.02\n",
       "4   30.78  60.10\n",
       "5   75.21  58.93\n",
       "6   79.26   7.68\n",
       "7    8.23  39.93\n",
       "8   98.73  77.17\n",
       "9   89.78  42.53\n",
       "10  65.19  92.08\n",
       "11  54.46   8.48"
      ]
     },
     "execution_count": 3,
     "metadata": {},
     "output_type": "execute_result"
    }
   ],
   "source": [
    "points = [[66.22, 32.54], [22.52, 22.39], [31.01, 81.21],\n",
    "          [9.47, 31.02],  [30.78, 60.10], [75.21, 58.93],\n",
    "          [79.26,  7.68], [8.23, 39.93],  [98.73, 77.17],\n",
    "          [89.78, 42.53], [65.19, 92.08], [54.46, 8.48]]\n",
    "pp = PointPattern(points) #create a point pattern \"pp\" from list\n",
    "pp.points "
   ]
  },
  {
   "cell_type": "markdown",
   "metadata": {},
   "source": [
    "We can use PointPattern class method plot to visualize pp."
   ]
  },
  {
   "cell_type": "code",
   "execution_count": 4,
   "metadata": {},
   "outputs": [
    {
     "data": {
      "image/png": "[encoded data removed]",
      "text/plain": [
       "<Figure size 432x288 with 1 Axes>"
      ]
     },
     "metadata": {
      "needs_background": "light"
     },
     "output_type": "display_data"
    }
   ],
   "source": [
    "pp.plot()"
   ]
  },
  {
   "cell_type": "code",
   "execution_count": 6,
   "metadata": {},
   "outputs": [],
   "source": []
  },
  {
   "cell_type": "markdown",
   "metadata": {},
   "source": [
    "### Central Tendency\n",
    "\n",
    "Central Tendency concerns about the center point of the two-dimensional distribution. It is similar to the first moment of a one-dimensional distribution. There are several ways to measure central tendency, each having pros and cons. We need to carefully select the appropriate measure according to our objective and data status."
   ]
  },
  {
   "cell_type": "markdown",
   "metadata": {},
   "source": [
    "<b>Mean Center</b> (𝑥<sub>𝑚𝑐</sub>, 𝑦<sub>𝑚𝑐</sub>)\n",
    "\n",
    "$$\n",
    "  x_{mc} = \\frac{1}{n} \\sum_{i=1}^{n} x_i\n",
    "$$\n",
    "$$\n",
    "  y_{mc} = \\frac{1}{n} \\sum_{i=1}^{n} y_i\n",
    "$$"
   ]
  },
  {
   "cell_type": "code",
   "execution_count": 8,
   "metadata": {},
   "outputs": [
    {
     "data": {
      "text/plain": [
       "array([52.57166667, 46.17166667])"
      ]
     },
     "execution_count": 8,
     "metadata": {},
     "output_type": "execute_result"
    }
   ],
   "source": [
    "mc = mean_center(pp.points)\n",
    "mc"
   ]
  },
  {
   "cell_type": "code",
   "execution_count": 9,
   "metadata": {},
   "outputs": [
    {
     "data": {
      "text/plain": [
       "<matplotlib.legend.Legend at 0x7faea18d7430>"
      ]
     },
     "execution_count": 9,
     "metadata": {},
     "output_type": "execute_result"
    },
    {
     "data": {
      "image/png": "[encoded data removed]",
      "text/plain": [
       "<Figure size 432x288 with 1 Axes>"
      ]
     },
     "metadata": {
      "needs_background": "light"
     },
     "output_type": "display_data"
    }
   ],
   "source": [
    "pp.plot()\n",
    "plt.plot(mc[0], mc[1], 'b^', label='Mean Center')\n",
    "plt.legend(numpoints=1)"
   ]
  },
  {
   "cell_type": "markdown",
   "metadata": {},
   "source": [
    "<b>Weighted Mean Center</b>  (𝑥<sub>𝑤𝑚𝑐</sub>, 𝑦<sub>𝑤𝑚𝑐</sub>)\n",
    "\n",
    "$$\n",
    "x_{wmc} = \\sum_{i=1}^{n} \\frac{w_i x_i}{\\sum_{i=1}^{n} w_i}\n",
    "$$\n",
    "\n",
    "$$\n",
    "y_{wmc} = \\sum_{i=1}^{n} \\frac{w_i y_i}{\\sum_{i=1}^{n} w_i}\n",
    "$$\n",
    "\n",
    "Weighted mean center is meant for marked point patterns. Aside from the first argument which is a seris of  (𝑥,𝑦) coordinates in weighted_mean_center function, we need to specify its second argument which is the weight for each event point."
   ]
  },
  {
   "cell_type": "code",
   "execution_count": 10,
   "metadata": {},
   "outputs": [
    {
     "data": {
      "text/plain": [
       "array([ 0,  1,  2,  3,  4,  5,  6,  7,  8,  9, 10, 11])"
      ]
     },
     "execution_count": 10,
     "metadata": {},
     "output_type": "execute_result"
    }
   ],
   "source": [
    "weights = np.arange(12)\n",
    "weights"
   ]
  },
  {
   "cell_type": "code",
   "execution_count": 11,
   "metadata": {},
   "outputs": [
    {
     "data": {
      "text/plain": [
       "array([60.51681818, 47.76848485])"
      ]
     },
     "execution_count": 11,
     "metadata": {},
     "output_type": "execute_result"
    }
   ],
   "source": [
    "wmc = weighted_mean_center(pp.points, weights)\n",
    "wmc"
   ]
  },
  {
   "cell_type": "code",
   "execution_count": 12,
   "metadata": {},
   "outputs": [
    {
     "data": {
      "text/plain": [
       "<matplotlib.legend.Legend at 0x7faea8b05670>"
      ]
     },
     "execution_count": 12,
     "metadata": {},
     "output_type": "execute_result"
    },
    {
     "data": {
      "image/png": "[encoded data removed]",
      "text/plain": [
       "<Figure size 432x288 with 1 Axes>"
      ]
     },
     "metadata": {
      "needs_background": "light"
     },
     "output_type": "display_data"
    }
   ],
   "source": [
    "pp.plot() #use class method \"plot\" to visualize point pattern\n",
    "plt.plot(mc[0], mc[1], 'b^', label='Mean Center') \n",
    "plt.plot(wmc[0], wmc[1], 'gd', label='Weighted Mean Center')\n",
    "plt.legend(numpoints=1)"
   ]
  },
  {
   "cell_type": "markdown",
   "metadata": {},
   "source": [
    "### Dispersion and Orientation\n",
    "\n",
    "<b>Standard Distance & Standard Distance Circle</b>\n",
    "\n",
    "$$\n",
    "SD = \\sqrt{\\frac{\\sum_{i=1}^{n} (x_i - x_m)^2}{n} + \\frac{\\sum_{i=1}^{n} (y_i - y_m)^2}{n}}\n",
    "$$\n",
    "\n",
    "The Standard distance is closely related to the usual definition of the standard deviation of a data set, and it provides a measure of how dispersed the events are around their mean center (𝑥𝑚,𝑦𝑚). Taken together, these measurements can be used to plot a summary circle (standard distance circle) for the point pattern, centered at  (𝑥𝑚,𝑦𝑚) with radius 𝑆𝐷, as shown below."
   ]
  },
  {
   "cell_type": "code",
   "execution_count": 13,
   "metadata": {},
   "outputs": [
    {
     "data": {
      "text/plain": [
       "40.14980648908671"
      ]
     },
     "execution_count": 13,
     "metadata": {},
     "output_type": "execute_result"
    }
   ],
   "source": [
    "stdd = std_distance(pp.points)\n",
    "stdd"
   ]
  },
  {
   "cell_type": "markdown",
   "metadata": {},
   "source": [
    "Plot mean center as well as the standard distance circle."
   ]
  },
  {
   "cell_type": "code",
   "execution_count": 14,
   "metadata": {},
   "outputs": [
    {
     "data": {
      "text/plain": [
       "<matplotlib.legend.Legend at 0x7fae88787610>"
      ]
     },
     "execution_count": 14,
     "metadata": {},
     "output_type": "execute_result"
    },
    {
     "data": {
      "image/png": "[encoded data removed]",
      "text/plain": [
       "<Figure size 432x288 with 1 Axes>"
      ]
     },
     "metadata": {
      "needs_background": "light"
     },
     "output_type": "display_data"
    }
   ],
   "source": [
    "circle1=plt.Circle((mc[0], mc[1]),stdd,color='r')\n",
    "ax = pp.plot(get_ax=True, title='Standard Distance Circle')\n",
    "ax.add_artist(circle1)\n",
    "plt.plot(mc[0], mc[1], 'b^', label='Mean Center')\n",
    "ax.set_aspect('equal')\n",
    "plt.legend(numpoints=1)"
   ]
  },
  {
   "cell_type": "markdown",
   "metadata": {},
   "source": [
    "From the above figure, we can observe that there are five points outside the standard distance circle which are potential outliers."
   ]
  },
  {
   "cell_type": "markdown",
   "metadata": {},
   "source": [
    "<b>Standard Deviational Ellipse</b>\n",
    "\n",
    "Compared with standard distance circle which measures dispersion using a single parameter 𝑆𝐷, standard deviational ellipse measures dispersion and trend in two dimensions through angle of rotation 𝜃, dispersion along major axis S<sub>𝑥</sub> and dispersion along minor axis S<sub>𝑦</sub>:\n",
    "\n",
    "Major axis defines the direction of maximum spread in the distribution. S<sub>𝑥</sub> is the semi-major axis (half the length of the major axis):\n",
    "\n",
    "$$\n",
    "s_x = \\sqrt{\\frac{2 \\left( \\sum_{i=1}^{n} (x_i - \\bar{x}) \\cos(\\theta) - \\sum_{i=1}^{n} (y_i - \\bar{y}) \\sin(\\theta) \\right)^2}{n - 2}}\n",
    "$$\n",
    "\n",
    "Minor axis defines the direction of minimum spread and is orthogonal to major axis. S<sub>𝑦</sub> is the semi-minor axis (half the length of the minor axis):\n",
    "\n",
    "$$\n",
    "s_y = \\sqrt{\\frac{2 \\left( \\sum_{i=1}^{n} (x_i - \\bar{x}) \\sin(\\theta) - \\sum_{i=1}^{n} (y_i - \\bar{y}) \\cos(\\theta) \\right)^2}{n - 2}}\n",
    "$$\n",
    "\n",
    "The ellipse is rotated clockwise through an angle 𝜃:\n",
    "\n",
    "$$\n",
    "\\theta = \\arctan \\left\\{ \n",
    "\\left( \\sum_{i} (x_i - \\bar{x})^2 - \\sum_{i} (y_i - \\bar{y})^2 \\right) \n",
    "+ \\frac{\\left[ \\left( \\sum_{i} (x_i - \\bar{x})^2 - \\sum_{i} (y_i - \\bar{y})^2 \\right)^2 \n",
    "+ 4 \\left( \\sum_{i} (x_i - \\bar{x})(y_i - \\bar{y}) \\right)^2 \\right]^{\\frac{1}{2}}}{2 \\sum_{i} (x_i - \\bar{x})(y_i - \\bar{y})} \\right\\}\n",
    "$$\n"
   ]
  },
  {
   "cell_type": "code",
   "execution_count": 15,
   "metadata": {},
   "outputs": [
    {
     "data": {
      "text/plain": [
       "(39.62386788646298, 42.753818949026815, 1.1039268428650906)"
      ]
     },
     "execution_count": 15,
     "metadata": {},
     "output_type": "execute_result"
    }
   ],
   "source": [
    "sx, sy, theta = ellipse(pp.points)\n",
    "sx, sy, theta"
   ]
  },
  {
   "cell_type": "code",
   "execution_count": 16,
   "metadata": {},
   "outputs": [
    {
     "data": {
      "text/plain": [
       "63.250348987371304"
      ]
     },
     "execution_count": 16,
     "metadata": {},
     "output_type": "execute_result"
    }
   ],
   "source": [
    "theta_degree = np.degrees(theta) #need degree of rotation to plot the ellipse\n",
    "theta_degree"
   ]
  },
  {
   "cell_type": "markdown",
   "metadata": {},
   "source": [
    "The Standard Deviational Ellipse for the point pattern is rotated clockwise by 63.25 degrees."
   ]
  },
  {
   "cell_type": "code",
   "execution_count": 17,
   "metadata": {},
   "outputs": [
    {
     "data": {
      "text/plain": [
       "<Figure size 432x288 with 0 Axes>"
      ]
     },
     "metadata": {},
     "output_type": "display_data"
    },
    {
     "data": {
      "image/png": "[encoded data removed]",
      "text/plain": [
       "<Figure size 432x288 with 1 Axes>"
      ]
     },
     "metadata": {
      "needs_background": "light"
     },
     "output_type": "display_data"
    }
   ],
   "source": [
    "from matplotlib.patches import Ellipse\n",
    "from pylab import figure, show,rand\n",
    "fig = figure()\n",
    "#ax = fig.add_subplot(111, aspect='equal')\n",
    "e = Ellipse(xy=mean_center(pp.points), width=sx*2, height=sy*2, angle=-theta_degree) #angle is rotation in degrees (anti-clockwise)\n",
    "ax = pp.plot(get_ax=True, title='Standard Deviational Ellipse')\n",
    "ax.add_artist(e)\n",
    "e.set_clip_box(ax.bbox)\n",
    "e.set_facecolor([0.8,0,0])\n",
    "e.set_edgecolor([1,0,0])\n",
    "ax.set_xlim(0,100)\n",
    "ax.set_ylim(0,100)\n",
    "ax.set_aspect('equal')\n",
    "plt.plot(mc[0], mc[1], 'b^', label='Mean Center')\n",
    "plt.legend(numpoints=1)\n",
    "show()"
   ]
  }
 ],
 "metadata": {
  "kernelspec": {
   "display_name": "Python 3 (ipykernel)",
   "language": "python",
   "name": "python3"
  },
  "language_info": {
   "codemirror_mode": {
    "name": "ipython",
    "version": 3
   },
   "file_extension": ".py",
   "mimetype": "text/x-python",
   "name": "python",
   "nbconvert_exporter": "python",
   "pygments_lexer": "ipython3",
   "version": "3.9.0"
  }
 },
 "nbformat": 4,
 "nbformat_minor": 4
}
