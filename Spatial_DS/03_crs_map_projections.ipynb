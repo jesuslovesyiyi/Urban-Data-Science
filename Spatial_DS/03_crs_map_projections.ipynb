{
 "cells": [
  {
   "cell_type": "markdown",
   "metadata": {},
   "source": [
    "# Coordinate Reference Systems (CRS) and Map Projections\n",
    "\n",
    "Building off of what we learned in the previous notebook, we'll now approach an integral aspect of geospatial data: Coordinate Reference Systems.\n",
    "\n",
    "<!---\n",
    "Expected time to complete\n",
    "    Lecture + Questions: 45 minutes\n",
    "    Exercises: 10 minutes\n",
    "-->"
   ]
  },
  {
   "cell_type": "code",
   "execution_count": null,
   "metadata": {},
   "outputs": [],
   "source": [
    "import pandas as pd\n",
    "import geopandas as gpd\n",
    "\n",
    "import matplotlib\n",
    "import matplotlib.pyplot as plt\n",
    "\n",
    "%matplotlib inline  "
   ]
  },
  {
   "cell_type": "markdown",
   "metadata": {},
   "source": [
    "## Import Shapefiles\n",
    "\n",
    "Let's go ahead and bring back in our California county shapefile. As before, we can read the file in using `gpd.read_file` and plot it right away:"
   ]
  },
  {
   "cell_type": "code",
   "execution_count": null,
   "metadata": {},
   "outputs": [],
   "source": [
    "counties = gpd.read_file('../data/california_counties/CaliforniaCounties.shp')\n",
    "counties.plot(color='darkgreen')"
   ]
  },
  {
   "cell_type": "markdown",
   "metadata": {},
   "source": [
    "Even if we have an awesome map like this, sometimes we want to have more geographical context, or we just want additional information. We're going to try **overlaying** our counties GeoDataFrame on a United States shapefile.\n",
    "\n",
    "We'll proceed in a similar manner with the US States shapefile: import the GeoDataFrame, examine it, and plot:"
   ]
  },
  {
   "cell_type": "code",
   "execution_count": null,
   "metadata": {},
   "outputs": [],
   "source": [
    "# Read in states shapefile\n",
    "states = gpd.read_file('../data/us_states/us_states.shp')"
   ]
  },
  {
   "cell_type": "code",
   "execution_count": null,
   "metadata": {},
   "outputs": [],
   "source": [
    "# Look at the first few rows\n",
    "states.head()"
   ]
  },
  {
   "cell_type": "code",
   "execution_count": null,
   "metadata": {},
   "outputs": [],
   "source": [
    "# Count how many rows and columns we have\n",
    "states.shape"
   ]
  },
  {
   "cell_type": "code",
   "execution_count": null,
   "metadata": {},
   "outputs": [],
   "source": [
    "# Plot the states data\n",
    "states.plot()"
   ]
  },
  {
   "cell_type": "markdown",
   "metadata": {},
   "source": [
    "You might have noticed that our plot extends beyond the 50 states (which we also saw when we executed the `shape` method). Let's double check what states we have included in our data."
   ]
  },
  {
   "cell_type": "code",
   "execution_count": null,
   "metadata": {},
   "outputs": [],
   "source": [
    "states['STATE'].values"
   ]
  },
  {
   "cell_type": "markdown",
   "metadata": {},
   "source": [
    "Beyond the 50 states we seem to have American Samoa, Puerto Rico, Guam, Commonwealth of the Northern Mariana Islands, and United States Virgin Islands included in this geodataframe. To make our map cleaner, let's limit the states to the 48 contiguous states (so, we'll also exclude Alaska and Hawaii)."
   ]
  },
  {
   "cell_type": "code",
   "execution_count": null,
   "metadata": {},
   "outputs": [],
   "source": [
    "# Define list of non-contiguous states\n",
    "non_contiguous_us = ['American Samoa',\n",
    "                     'Puerto Rico',\n",
    "                     'Guam',\n",
    "                     'Commonwealth of the Northern Mariana Islands',\n",
    "                     'United States Virgin Islands',\n",
    "                     'Alaska',\n",
    "                     'Hawaii']\n",
    "# Subselect GeoDataFrame according to above list\n",
    "states_limited = states.loc[~states['STATE'].isin(non_contiguous_us)]"
   ]
  },
  {
   "cell_type": "code",
   "execution_count": null,
   "metadata": {},
   "outputs": [],
   "source": [
    "# Plot it\n",
    "states_limited.plot()"
   ]
  },
  {
   "cell_type": "markdown",
   "metadata": {},
   "source": [
    "To prepare for our mapping overlay, let's make our states a nice, light grey color:"
   ]
  },
  {
   "cell_type": "code",
   "execution_count": null,
   "metadata": {},
   "outputs": [],
   "source": [
    "states_limited.plot(color='lightgrey', figsize=(10,10))"
   ]
  },
  {
   "cell_type": "markdown",
   "metadata": {},
   "source": [
    "## Plotting Multiple Geometries\n",
    "\n",
    "Now that we have both GeoDataFrames in our environment, we can plot both in the same figure.\n",
    "\n",
    "To do this, we're going to obtain a matplotlib Axes object (`ax`). We'll then explicitly add each layer to it by providing the `ax=ax` argument to the `plot` method.\n",
    "\n",
    "This is the *object-oriented* approach to using matplotlib. It may be new to you, but it's very powerful, since it lets you directly choose which subplot you modify."
   ]
  },
  {
   "cell_type": "code",
   "execution_count": null,
   "metadata": {},
   "outputs": [],
   "source": [
    "# Create figure and axis object\n",
    "fig, ax = plt.subplots(figsize=(10, 10))\n",
    "# Plot counties first\n",
    "counties.plot(color='darkgreen', ax=ax)\n",
    "# Plot states next\n",
    "states_limited.plot(color='lightgrey', ax=ax)"
   ]
  },
  {
   "cell_type": "markdown",
   "metadata": {},
   "source": [
    "Oh no, what happened here?\n",
    "\n",
    "If you look at the numbers we have on the $x$ and $y$ axes in our two plots, you'll see that the county data has much larger numbers than our states data. It's represented in some different type of unit other than decimal degrees! \n",
    "\n",
    "In fact, that means if we zoom in really close into our plot we'll probably see the states data plotted. "
   ]
  },
  {
   "cell_type": "code",
   "execution_count": null,
   "metadata": {},
   "outputs": [],
   "source": [
    "# Create figure and axis object\n",
    "fig, ax = plt.subplots(figsize=(10, 10))\n",
    "# Plot counties first\n",
    "counties.plot(color='darkgreen', ax=ax)\n",
    "# Plot states next\n",
    "states_limited.plot(color='lightgrey', ax=ax)\n",
    "# Change limits of axes\n",
    "ax.set_xlim(-140, -50)\n",
    "ax.set_ylim(20, 50)"
   ]
  },
  {
   "cell_type": "markdown",
   "metadata": {},
   "source": [
    "This is a key issue that you'll have to resolve time and time again when working with geospatial data!\n",
    "\n",
    "It all revolves around **coordinate reference systems** and **projections**."
   ]
  },
  {
   "cell_type": "markdown",
   "metadata": {},
   "source": [
    "## Coordinate Reference Systems (CRS)\n",
    "\n",
    "A Coordinate Reference System (CRS) describes how the coordinates in a geospatial dataset relate to locations on the surface of the earth. \n",
    "\n",
    "A **geographic CRS** consists of: \n",
    "- A 3D model of the shape of the earth (a **datum**), approximated as a sphere or spheroid (e.g., an ellipsoid),\n",
    "- The **units** of the coordinate system (e.g, decimal degrees, meters, feet), and \n",
    "- The **origin** (i.e., the 0,0 location), specified as the meeting of the **equator** and the **prime meridian**.\n",
    "\n",
    "A **projected CRS** consists of:\n",
    "- A geographic CRS, and\n",
    "- A **map projection** and related parameters used to transform the geographic coordinates to `2D` space.\n",
    "  - A map projection is a mathematical model used to transform coordinate data\n",
    "\n",
    "<img src =\"https://www.e-education.psu.edu/natureofgeoinfo/sites/www.e-education.psu.edu.natureofgeoinfo/files/image/projection.gif\" height=\"100\" width=\"500\">"
   ]
  },
  {
   "cell_type": "markdown",
   "metadata": {},
   "source": [
    "### There are Many, Many CRSs\n",
    "\n",
    "Theoretically, the number of CRSs is unlimited!\n",
    "\n",
    "Why? There are two main reasons: i) There are many different definitions of the shape of the earth (treating it as a sphere is just too simple!) and ii) There are many different ways to cast its surface onto 2 dimensions. Our understanding of the Earth's shape and our ability to measure it has changed greatly over time.\n",
    "\n",
    "**So, why are we even bothering with these CRSs?**\n",
    "\n",
    "- You need to know the data about your data (or `metadata`) to use it appropriately.\n",
    "- All projected CRSs introduce distortion in shape, area, and/or distance. Understanding what CRS best maintains the characteristics you need for your area of interest and your analysis is important.\n",
    "- Some analysis methods expect geospatial data to be in a projected CRS\n",
    "  - For example, GeoPandas expects a GeoDataFrame to be in a projected CRS for area or distance based analyses.\n",
    "- Some Python libraries, but not all, implement dynamic reprojection from the input CRS to the required CRS and assume a specific CRS (WGS84) when a CRS is not explicitly defined.\n",
    "- Most Python spatial libraries, including GeoPandas, require geospatial data to be in the same CRS if they are being analysed together.\n",
    "\n",
    "**That's a lot: what are the basics we need to remember?**\n",
    "\n",
    "- What CRSs are used in your study area and what are their main characteristics?\n",
    "- How to identify, or `get`, the CRS of a GeoDataFrame.\n",
    "- How to **set** the CRS of geodataframe (i.e. define the projection).\n",
    "- Hot to **transform** the CRS of a GeoDataFrame (i.e. reproject the data).\n",
    "\n",
    "### EPSG Codes and Commonly Used CRSs\n",
    "\n",
    "CRSs are typically referenced by an [EPSG code](http://wiki.gis.com/wiki/index.php/European_Petroleum_Survey_Group).  \n",
    "\n",
    "It's important to know the commonly used CRSs and their EPSG codes for your geographic area of interest.  \n",
    "\n",
    "For example, below is a list of commonly used CRSs for California geospatial data along with their EPSG codes.\n",
    "\n",
    "**Geographic CRSs**\n",
    "\n",
    "* `4326: WGS84` (units decimal degrees): The most commonly used geographic CRS.\n",
    "* `4269: NAD83` (units decimal degrees): The geographic CRS customized to best fit the USA. This is used by all Census geographic data.\n",
    "\n",
    "`NAD83 (EPSG:4269)` is approximately the same as `WGS84 (EPSG:4326)`, although locations can differ by up to 1 meter in the continental USA and elsewhere up to 3 meters. That is not a big issue with, for example, Census tract data as these data are only accurate within 7 meters.\n",
    "\n",
    "**Projected CRSs**\n",
    "\n",
    "* `5070: CONUS NAD83` (units meters): Projected CRS for mapping the entire contiguous USA (CONUS).\n",
    "* `3857: Web Mercator` (units meters): Conformal (shape preserving) CRS used as the default in web mapping.\n",
    "* `3310: CA Albers Equal Area, NAD83` (units meters): Projected CRS for CA statewide mapping and spatial analysis.\n",
    "* `26910: UTM Zone 10N, NAD83` (units meters): Projected CRS for northern CA mapping & analysis.\n",
    "* `26911: UTM Zone 11N, NAD83` (units meters): Projected CRS for Southern CA mapping & analysis.\n",
    "* `102641 to 102646: CA State Plane zones 1-6, NAD83` (units feet): Projected CRS used for local analysis.\n",
    "\n",
    "You can find the full CRS details on [this website](https://www.spatialreference.org)."
   ]
  },
  {
   "cell_type": "markdown",
   "metadata": {},
   "source": [
    "## Working with CRSs in GeoPandas\n",
    "\n",
    "Now that we've covered some of the basics, let's turn back to the code. Even though there are a lot of details, GeoPandas actually makes it pretty easy to work with CRSs!\n",
    "\n",
    "### Identifying the CRS of a GeoDataFrame\n",
    "\n",
    "GeoPandas GeoDataFrames have a `crs` attribute that returns the CRS of the data:"
   ]
  },
  {
   "cell_type": "code",
   "execution_count": null,
   "metadata": {},
   "outputs": [],
   "source": [
    "counties.crs"
   ]
  },
  {
   "cell_type": "code",
   "execution_count": null,
   "metadata": {},
   "outputs": [],
   "source": [
    "states_limited.crs"
   ]
  },
  {
   "cell_type": "markdown",
   "metadata": {},
   "source": [
    "As we can clearly see from those two printouts (even if we don't understand all the content!),\n",
    "the CRSs of our two datasets are different! **This explains why we couldn't overlay them correctly!**\n",
    "\n",
    "\n",
    "The above CRS definition specifies:\n",
    "- the name of the CRS (`WGS84`), \n",
    "- the axis units (`degree`),\n",
    "- the shape (`datum`),\n",
    "- the origin (`Prime Meridian`, and the equator),\n",
    "- and the area for which it is best suited (`World`)\n",
    "\n",
    "Some additional terms worth noting:\n",
    "- `geocentric`: latitude and longitude assume a spherical (round) model of the shape of the earth.\n",
    "- `geodetic`: latitude and longitude assume a spheriodal (ellipsoidal) model, which is closer to the true shape.\n",
    "- `geodesy`: is the study of the shape of the earth.\n",
    "\n",
    "**NOTE**: If you print a `crs` call, Python will just display the EPSG code used to initiate the CRS object. Depending on your versions of GeoPandas and its dependencies, this may or may not look different from what we just saw above."
   ]
  },
  {
   "cell_type": "code",
   "execution_count": null,
   "metadata": {
    "scrolled": true
   },
   "outputs": [],
   "source": [
    "print(states_limited.crs)"
   ]
  },
  {
   "cell_type": "markdown",
   "metadata": {
    "tags": []
   },
   "source": [
    "### Setting the CRS\n",
    "\n",
    "You can also set the CRS of a GeoDataFrame using the `crs` attribute.  You should set the CRS if is not defined or if you think it is incorrectly defined.\n",
    "\n",
    "> In desktop GIS terminology, setting the CRS is called **defining the CRS**.\n",
    "\n",
    "As an example, let's set the CRS of our data to `None`:"
   ]
  },
  {
   "cell_type": "code",
   "execution_count": null,
   "metadata": {},
   "outputs": [],
   "source": [
    "# First, set the CRS to None\n",
    "states_limited.crs = None"
   ]
  },
  {
   "cell_type": "code",
   "execution_count": null,
   "metadata": {},
   "outputs": [],
   "source": [
    "# Check it again\n",
    "states_limited.crs"
   ]
  },
  {
   "cell_type": "markdown",
   "metadata": {},
   "source": [
    "Makes sense: if a variable has a null value (`None`), then displaying it without printing it won't display anything!"
   ]
  },
  {
   "cell_type": "code",
   "execution_count": null,
   "metadata": {},
   "outputs": [],
   "source": [
    "# Check it again\n",
    "print(states_limited.crs)"
   ]
  },
  {
   "cell_type": "markdown",
   "metadata": {},
   "source": [
    "Now, we'll set it back to its correct CRS:"
   ]
  },
  {
   "cell_type": "code",
   "execution_count": null,
   "metadata": {},
   "outputs": [],
   "source": [
    "# Set it to 4326\n",
    "states_limited.crs = \"epsg:4326\""
   ]
  },
  {
   "cell_type": "code",
   "execution_count": null,
   "metadata": {},
   "outputs": [],
   "source": [
    "# Show it\n",
    "states_limited.crs"
   ]
  },
  {
   "cell_type": "markdown",
   "metadata": {},
   "source": [
    "**NOTE**: You can set the CRS to anything you like, but **that doesn't make it correct**! This is because setting the CRS does not change the coordinate data. It just tells the software how to interpret it."
   ]
  },
  {
   "cell_type": "markdown",
   "metadata": {},
   "source": [
    "### Transforming or Reprojecting the CRS\n",
    "\n",
    "You can transform the CRS of a GeoDataFrame with the `to_crs` method.\n",
    "\n",
    "> In desktop GIS terminology transforming the CRS is called **projecting the data** (or **reprojecting the data**).\n",
    "\n",
    "When you do this, you should save the output to a new GeoDataFrame."
   ]
  },
  {
   "cell_type": "code",
   "execution_count": null,
   "metadata": {},
   "outputs": [],
   "source": [
    "states_limited_utm10 = states_limited.to_crs(\"epsg:26910\")"
   ]
  },
  {
   "cell_type": "markdown",
   "metadata": {},
   "source": [
    "Now, take a look at the new CRS:"
   ]
  },
  {
   "cell_type": "code",
   "execution_count": null,
   "metadata": {},
   "outputs": [],
   "source": [
    "states_limited_utm10.crs"
   ]
  },
  {
   "cell_type": "markdown",
   "metadata": {},
   "source": [
    "You can see the result immediately by plotting the data."
   ]
  },
  {
   "cell_type": "code",
   "execution_count": null,
   "metadata": {},
   "outputs": [],
   "source": [
    "# Plot geographic gdf\n",
    "states_limited.plot();\n",
    "plt.axis('square');\n",
    "\n",
    "# Plot UTM gdf\n",
    "states_limited_utm10.plot();\n",
    "plt.axis('square')\n",
    "\n",
    "plt.show()"
   ]
  },
  {
   "cell_type": "markdown",
   "metadata": {},
   "source": [
    "---\n",
    "\n",
    "### Challenge 1: Reflecting on CRSs\n",
    "\n",
    "1. What two key differences do you see between the two plots above?\n",
    "2. Do either of these plotted USA maps look good?\n",
    "3. Try looking at the common CRS EPSG codes above and see if any of them look better for the whole country than what we have now. Then try transforming the states data to the CRS that you think would be best and plotting it. (Use the code cell two cells below.)\n",
    "\n",
    "---"
   ]
  },
  {
   "cell_type": "code",
   "execution_count": null,
   "metadata": {},
   "outputs": [],
   "source": [
    "# YOUR CODE HERE\n"
   ]
  },
  {
   "cell_type": "markdown",
   "metadata": {},
   "source": [
    "## Plotting States and Counties Together\n",
    "\n",
    "Now that we know what a CRS is and how we can set them, let's turn back to our original issue. We're going to match up our counties GeoDataFrame's CRS to the states GeoDataFrame's CRS."
   ]
  },
  {
   "cell_type": "code",
   "execution_count": null,
   "metadata": {},
   "outputs": [],
   "source": [
    "# Convert counties data to WGS 84\n",
    "counties_wgs84 = counties.to_crs(\"epsg:4326\")"
   ]
  },
  {
   "cell_type": "code",
   "execution_count": null,
   "metadata": {},
   "outputs": [],
   "source": [
    "counties_wgs84.plot()"
   ]
  },
  {
   "cell_type": "code",
   "execution_count": null,
   "metadata": {},
   "outputs": [],
   "source": [
    "# Plot it together!\n",
    "fig, ax = plt.subplots(figsize=(10,10))\n",
    "states_limited.plot(color='lightgrey', edgecolor='black', ax=ax)\n",
    "counties_wgs84.plot(color='darkgreen', edgecolor='gray', ax=ax)"
   ]
  },
  {
   "cell_type": "markdown",
   "metadata": {},
   "source": [
    "Since we know that the best CRS to plot the contiguous US from the above question is 5070, let's also transform and plot everything in that CRS."
   ]
  },
  {
   "cell_type": "code",
   "execution_count": null,
   "metadata": {},
   "outputs": [],
   "source": [
    "counties_conus = counties.to_crs(\"epsg:5070\")\n",
    "states_limited_conus = states_limited.to_crs(\"epsg:5070\")"
   ]
  },
  {
   "cell_type": "code",
   "execution_count": null,
   "metadata": {},
   "outputs": [],
   "source": [
    "# Create figure and axis objects\n",
    "fig, ax = plt.subplots(figsize=(10,10))\n",
    "# Plot the EPSG:5070 projections\n",
    "states_limited_conus.plot(color='lightgrey', edgecolor='black', ax=ax)\n",
    "counties_conus.plot(color='darkgreen', edgecolor='gray', ax=ax)"
   ]
  },
  {
   "cell_type": "markdown",
   "metadata": {},
   "source": [
    "--- \n",
    "### Challenge 2: CRS Management\n",
    "\n",
    "Now it's time to take a crack and managing the CRS of a new dataset. In the code cell below, write code to:\n",
    "\n",
    "1. Bring in the CA places data (`../data/census/Places/cb_2018_06_place_500k.zip`)\n",
    "2. Check if the CRS is EPSG code 26910. If not, transform the CRS.\n",
    "3. Plot the California counties and places together.\n",
    "\n",
    "---"
   ]
  },
  {
   "cell_type": "code",
   "execution_count": null,
   "metadata": {
    "scrolled": true
   },
   "outputs": [],
   "source": [
    "# YOUR CODE HERE\n"
   ]
  }
 ],
 "metadata": {
  "kernelspec": {
   "display_name": "Python 3 (ipykernel)",
   "language": "python",
   "name": "python3"
  },
  "language_info": {
   "codemirror_mode": {
    "name": "ipython",
    "version": 3
   },
   "file_extension": ".py",
   "mimetype": "text/x-python",
   "name": "python",
   "nbconvert_exporter": "python",
   "pygments_lexer": "ipython3",
   "version": "3.8.12"
  }
 },
 "nbformat": 4,
 "nbformat_minor": 4
}
